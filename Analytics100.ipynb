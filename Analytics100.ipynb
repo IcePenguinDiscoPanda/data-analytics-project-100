{
 "cells": [
  {
   "cell_type": "markdown",
   "id": "d4ec0c8f-95bd-4f34-9f4b-aae01a6b57b6",
   "metadata": {},
   "source": [
    "Импорт библиотек"
   ]
  },
  {
   "cell_type": "code",
   "execution_count": 112,
   "id": "12b6866d-767e-47af-aab1-4f03214352e1",
   "metadata": {},
   "outputs": [],
   "source": [
    "import requests as r\n",
    "import pandas as pd\n",
    "import datetime as dt\n",
    "import numpy as np\n",
    "import matplotlib.pyplot as plt\n",
    "import seaborn as sns\n",
    "import plotly as pt"
   ]
  },
  {
   "cell_type": "markdown",
   "id": "4db3172b-63ae-41d0-be6e-1a4461dab5ea",
   "metadata": {},
   "source": [
    "Задание 3"
   ]
  },
  {
   "cell_type": "code",
   "execution_count": 113,
   "id": "c36239d4-2425-4c95-bcb6-3561880a61ad",
   "metadata": {},
   "outputs": [
    {
     "name": "stdout",
     "output_type": "stream",
     "text": [
      "         date platform  visits  registrations  conversion\n",
      "0  2023-03-01  android     264            218        83.0\n",
      "1  2023-03-01      ios      78             67        86.0\n",
      "2  2023-03-01      web     333             78        23.0\n",
      "3  2023-03-02  android     106             91        86.0\n",
      "4  2023-03-02      ios     103             76        74.0\n",
      "5  2023-03-02      web     462             52        11.0\n",
      "6  2023-03-03  android     251            218        87.0\n",
      "7  2023-03-03      ios      57             54        95.0\n",
      "8  2023-03-03      web    1221             66         5.0\n",
      "9  2023-03-04  android     193            119        62.0\n"
     ]
    }
   ],
   "source": [
    "#Подавление ошибки цепного назначения\n",
    "pd.options.mode.chained_assignment = None\n",
    "\n",
    "#Раскрываем все строки и столбцы\n",
    "pd.set_option('display.max_rows', None)\n",
    "pd.set_option('display.max_columns', None)\n",
    "\n",
    "#Запрашиваем данные через GET запрос и преобразуем в json\n",
    "visits_json = r.get('https://data-charts-api.hexlet.app/visits?begin=2023-03-01&end=2023-09-01').json()\n",
    "registrations_json = r.get('https://data-charts-api.hexlet.app/registrations?begin=2023-03-01&end=2023-09-01').json()\n",
    "\n",
    "#Преобразовываем json в DataFrame\n",
    "visits = pd.DataFrame(visits_json)\n",
    "registrations = pd.DataFrame(registrations_json)\n",
    "\n",
    "#Добавляем столбец с датой\n",
    "visits['date'] = pd.to_datetime(visits['datetime']).dt.date\n",
    "registrations['date'] = pd.to_datetime(registrations['datetime']).dt.date\n",
    "\n",
    "#Выбираем дату последнего визита каждого пользователя\n",
    "visits[\"datetime\"] = pd.to_datetime(visits[\"datetime\"], format=\"%a, %d %b %Y %H:%M:%S %Z\")\n",
    "visits[\"last_datetime\"] = visits.groupby('visit_id')[\"datetime\"].transform('max')\n",
    "last_visits = visits[visits['datetime'] == visits['last_datetime']]\n",
    "\n",
    "#Маркируем ботов\n",
    "# def is_bot(row):\n",
    "#     return 1 if row['user_agent'].str.contains('bot') else 0\n",
    "\n",
    "# last_visits['is_bot'] = last_visits['user_agent'].apply(is_bot, axis = 1)\n",
    "\n",
    "last_visits['is_bot'] = np.where(last_visits['user_agent'].str.contains('bot'), 'yes', 'no')\n",
    "\n",
    "#Группируем и объединяем данные\n",
    "visits_and_registrations = pd.concat([\n",
    "    last_visits[last_visits['is_bot'] == 'no'].groupby(['date', 'platform']).agg({'visit_id': 'count'}),\n",
    "    registrations.groupby(['date', 'platform']).agg({'user_id': 'count'})\n",
    "], axis=1).reset_index()\n",
    "\n",
    "#Переименовываем столбцы и заполняем нули\n",
    "visits_and_registrations.rename(columns = {'visit_id':'visits', 'user_id':'registrations'}, inplace = True )\n",
    "visits_and_registrations['registrations'] = visits_and_registrations['registrations'].fillna(0)\n",
    "\n",
    "#Считаем конверсию\n",
    "visits_and_registrations['conversion'] = round(visits_and_registrations['registrations']/visits_and_registrations['visits']*100, 0)\n",
    "\n",
    "#Сохраняем в формате json\n",
    "visits_and_registrations.to_json('conversion.json', orient = 'columns')\n",
    "\n",
    "print(visits_and_registrations.head(10))\n"
   ]
  },
  {
   "cell_type": "markdown",
   "id": "353c7181-2ed4-419c-a16d-68656084d29f",
   "metadata": {},
   "source": [
    "Задание 4"
   ]
  },
  {
   "cell_type": "code",
   "execution_count": 114,
   "id": "c2a29a34-8a63-4470-b7df-d9edf167f223",
   "metadata": {},
   "outputs": [
    {
     "name": "stdout",
     "output_type": "stream",
     "text": [
      "   date_group  visits  registrations   cost              utm_campaign\n",
      "0  2023-03-01     264            218  238.0  virtual_reality_workshop\n",
      "1  2023-03-01      78             67  238.0  virtual_reality_workshop\n",
      "2  2023-03-01     333             78  238.0  virtual_reality_workshop\n",
      "3  2023-03-02     106             91  164.0  virtual_reality_workshop\n",
      "4  2023-03-02     103             76  164.0  virtual_reality_workshop\n"
     ]
    }
   ],
   "source": [
    "#Читаем данные из csv файла\n",
    "ads_info = pd.read_csv('ads.csv')\n",
    "\n",
    "#Добавляем столбец с датой\n",
    "ads_info['date_ymd'] = pd.to_datetime(ads_info['date']).dt.date\n",
    "\n",
    "#Группируем по дате и рекламной компании, находим стоимость рекламных кампаний по дням\n",
    "ads_grouped = ads_info.groupby(['date_ymd', 'utm_campaign']).agg({'cost':'sum'}).reset_index()\n",
    "\n",
    "#Соединяем таблицу конверсий и рекламы, переименовываем столбцы\n",
    "ads = visits_and_registrations.merge(ads_grouped, left_on = 'date', right_on = 'date_ymd', how = 'left') \n",
    "ads = ads[['date', 'visits', 'registrations', 'cost', 'utm_campaign']]\n",
    "ads.rename(columns = {'date':'date_group'}, inplace = True )\n",
    "ads['cost'] = ads['cost'].fillna(0)\n",
    "ads['utm_campaign'] = ads['utm_campaign'].fillna('none')\n",
    "\n",
    "#Сохраняем в формате json\n",
    "ads.to_json('ads.json', orient = 'columns')\n",
    "print(ads.head(5))\n",
    "# print(visits_and_registrations.head(200))\n",
    "# print(ads_grouped.head(10))\n"
   ]
  },
  {
   "cell_type": "markdown",
   "id": "2d322edb-8e09-464e-8e23-29df6480620f",
   "metadata": {},
   "source": [
    "Задание 5"
   ]
  },
  {
   "cell_type": "code",
   "execution_count": 110,
   "id": "e55d8812-2ff7-4f34-8982-633fdd4269e8",
   "metadata": {},
   "outputs": [
    {
     "name": "stdout",
     "output_type": "stream",
     "text": [
      "            visits\n",
      "date_group        \n",
      "2023-03-01     675\n",
      "2023-03-02     671\n",
      "2023-03-03    1529\n",
      "2023-03-04    2083\n",
      "2023-03-05    2321\n"
     ]
    }
   ],
   "source": [
    "total_visits = ads.groupby(['date_group']).agg({'visits':'sum'})\n",
    "print(total_visits.head(5))"
   ]
  }
 ],
 "metadata": {
  "kernelspec": {
   "display_name": "Python 3 (ipykernel)",
   "language": "python",
   "name": "python3"
  },
  "language_info": {
   "codemirror_mode": {
    "name": "ipython",
    "version": 3
   },
   "file_extension": ".py",
   "mimetype": "text/x-python",
   "name": "python",
   "nbconvert_exporter": "python",
   "pygments_lexer": "ipython3",
   "version": "3.10.9"
  }
 },
 "nbformat": 4,
 "nbformat_minor": 5
}
